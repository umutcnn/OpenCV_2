{
 "cells": [
  {
   "cell_type": "code",
   "execution_count": 1,
   "id": "18b16323",
   "metadata": {},
   "outputs": [],
   "source": [
    "import numpy as np\n",
    "import cv2\n",
    "\n",
    "def daire_ciz(event,x,y,flags,param):\n",
    "    #sol click edildiğinde\n",
    "    if event == cv2.EVENT_LBUTTONDOWN:\n",
    "        #100 yarıcap, yeşil renkte olsun ve içi dolu olsun\n",
    "        cv2.circle(img,(x,y),100,(0,255,0),-1)\n",
    "        \n",
    "    #sağ click edildiğinde\n",
    "    if event == cv2.EVENT_RBUTTONDOWN:\n",
    "        #100 yarıcap, kırmızı renkte olsun ve içi dolu olsun\n",
    "        cv2.circle(img,(x,y),100,(0,0,255),-1)\n",
    "    \n",
    "cv2.namedWindow(winname='deneme')\n",
    "\n",
    "cv2.setMouseCallback('deneme', daire_ciz)\n",
    "\n",
    "\n",
    "#siyah bir tuval oluştur.\n",
    "img=np.zeros((512,512,3))\n",
    "\n",
    "while True:\n",
    "    #ekrana bas\n",
    "    cv2.imshow('deneme', img) \n",
    "    #esc basılınca kapat\n",
    "    if cv2.waitKey(20) & 0xFF == 27:\n",
    "        break\n",
    "        \n",
    "cv2.destroyAllWindows()"
   ]
  },
  {
   "cell_type": "code",
   "execution_count": null,
   "id": "3a3554fd",
   "metadata": {},
   "outputs": [],
   "source": []
  }
 ],
 "metadata": {
  "kernelspec": {
   "display_name": "Python 3 (ipykernel)",
   "language": "python",
   "name": "python3"
  },
  "language_info": {
   "codemirror_mode": {
    "name": "ipython",
    "version": 3
   },
   "file_extension": ".py",
   "mimetype": "text/x-python",
   "name": "python",
   "nbconvert_exporter": "python",
   "pygments_lexer": "ipython3",
   "version": "3.9.12"
  }
 },
 "nbformat": 4,
 "nbformat_minor": 5
}
