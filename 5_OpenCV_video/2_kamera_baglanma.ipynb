{
 "cells": [
  {
   "cell_type": "code",
   "execution_count": 1,
   "id": "75725c73",
   "metadata": {},
   "outputs": [],
   "source": [
    "import cv2\n",
    "\n",
    "#webcam bağlanma\n",
    "cap=cv2.VideoCapture(0)\n",
    "\n",
    "#genişlik\n",
    "width= int(cap.get(cv2.CAP_PROP_FRAME_WIDTH))\n",
    "\n",
    "#yukseklik\n",
    "height= int(cap.get(cv2.CAP_PROP_FRAME_HEIGHT))\n",
    "\n",
    "#bağlandığım kamera goruntusunu ekrana bas\n",
    "while True:\n",
    "    #frameleri oku\n",
    "    ret, frame = cap.read()\n",
    "    \n",
    "    #bgr to rgb yap\n",
    "    gray=cv2.cvtColor(frame,cv2.COLOR_BGR2RGB)\n",
    "    \n",
    "    #ekrana bas\n",
    "    cv2.imshow('frame',frame)\n",
    "    \n",
    "    #goruntuden çıkmak için\n",
    "    if cv2.waitKey(1) & 0xFF == ord('q'):\n",
    "        break\n",
    "#webcam bağlantısı kopar\n",
    "cap.release()\n",
    "#ekran kapat\n",
    "cv2.destroyAllWindows()\n",
    "\n",
    "\n",
    "\n",
    "\n"
   ]
  },
  {
   "cell_type": "code",
   "execution_count": null,
   "id": "dfb1fc25",
   "metadata": {},
   "outputs": [],
   "source": []
  }
 ],
 "metadata": {
  "kernelspec": {
   "display_name": "Python 3 (ipykernel)",
   "language": "python",
   "name": "python3"
  },
  "language_info": {
   "codemirror_mode": {
    "name": "ipython",
    "version": 3
   },
   "file_extension": ".py",
   "mimetype": "text/x-python",
   "name": "python",
   "nbconvert_exporter": "python",
   "pygments_lexer": "ipython3",
   "version": "3.9.12"
  }
 },
 "nbformat": 4,
 "nbformat_minor": 5
}
