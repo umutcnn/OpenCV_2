{
 "cells": [
  {
   "cell_type": "code",
   "execution_count": 1,
   "id": "87ddaa71",
   "metadata": {},
   "outputs": [],
   "source": [
    "import cv2\n",
    "import time\n",
    "\n",
    "#video bağlanma\n",
    "cap=cv2.VideoCapture('car.mp4')\n",
    "\n",
    "#video bağlanıp bağlanmadığını kontrol etme\n",
    "if cap.isOpened()==False:\n",
    "    print(\"Bağlanamadı\")\n",
    "\n",
    "#donguya al ve ekraana bastır\n",
    "while cap.isOpened():\n",
    "    ret,frame= cap.read()\n",
    "    \n",
    "    #frame varsa\n",
    "    if ret==True:\n",
    "        #goster\n",
    "        cv2.imshow('frame', frame)\n",
    "        \n",
    "        #videonun akış hızı\n",
    "        time.sleep(1/25)\n",
    "        \n",
    "        #goruntuden çıkmak için\n",
    "        if cv2.waitKey(1) & 0xFF == ord('q'):\n",
    "            break\n",
    "    else:\n",
    "        break\n",
    "        \n",
    "    \n",
    "#webcam bağlantısı kopar\n",
    "cap.release()\n",
    "#ekran kapat\n",
    "cv2.destroyAllWindows()\n"
   ]
  },
  {
   "cell_type": "code",
   "execution_count": null,
   "id": "57c268ad",
   "metadata": {},
   "outputs": [],
   "source": []
  },
  {
   "cell_type": "code",
   "execution_count": null,
   "id": "b29de643",
   "metadata": {},
   "outputs": [],
   "source": []
  }
 ],
 "metadata": {
  "kernelspec": {
   "display_name": "Python 3 (ipykernel)",
   "language": "python",
   "name": "python3"
  },
  "language_info": {
   "codemirror_mode": {
    "name": "ipython",
    "version": 3
   },
   "file_extension": ".py",
   "mimetype": "text/x-python",
   "name": "python",
   "nbconvert_exporter": "python",
   "pygments_lexer": "ipython3",
   "version": "3.9.12"
  }
 },
 "nbformat": 4,
 "nbformat_minor": 5
}
